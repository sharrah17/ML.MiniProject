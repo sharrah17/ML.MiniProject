{
 "cells": [
  {
   "cell_type": "markdown",
   "id": "8dff1e6a",
   "metadata": {},
   "source": [
    "***\n",
    "\n",
    "# Linear Regression\n",
    "\n",
    "***"
   ]
  },
  {
   "cell_type": "markdown",
   "id": "17175a87",
   "metadata": {},
   "source": [
    "\n",
    "#### What is it? \n",
    ">  Linear Regression is a supervised machine learning model that predicts continuous variables given data points. There are two types:\n",
    "\n",
    "        - Simple: Only one independent variable is present\n",
    "        - Multiple: More than one independent variables present\n",
    "        \n",
    "> This notebook will mainly focus on Simple Linear Regression.\n"
   ]
  },
  {
   "cell_type": "markdown",
   "id": "2ea61559",
   "metadata": {},
   "source": [
    "#### How does it work?\n",
    "> The Simple Linear Regression model makes predictions by computing the weighted sum of input features plus a bias term (intercept term).\n"
   ]
  },
  {
   "attachments": {
    "MSE.PNG": {
     "image/png": "[encoded data removed]"
    }
   },
   "cell_type": "markdown",
   "id": "bd4cceb9",
   "metadata": {},
   "source": [
    "> To train and develop an accurate model with minimal error, we can use the cost function below. Mean Squared Error, or MSE, measures the average squared difference between an observation's actual and predicted values. The goal is to minimize MSE to improve model accuracy. \n",
    "\n",
    "![MSE.PNG](attachment:MSE.PNG)\n"
   ]
  },
  {
   "attachments": {
    "GRADIENTmse.PNG": {
     "image/png": "[encoded data removed]"
    }
   },
   "cell_type": "markdown",
   "id": "9c8bff82",
   "metadata": {},
   "source": [
    "> To minimize the cost (MSE), we can use Gradient Descent. Below are the gradients of the cost:\n",
    "\n",
    "![GRADIENTmse.PNG](attachment:GRADIENTmse.PNG)\n",
    "\n"
   ]
  },
  {
   "cell_type": "markdown",
   "id": "19b2f437",
   "metadata": {},
   "source": [
    "#### Model Assumptions\n",
    "\n",
    "> Below are Linear Regression model assumptions:\n",
    "\n",
    "        - Linearity: Dependent variable must be linearly related to independent variable(s)\n",
    "        - Constant Variance: Variance of error terms should be constant\n",
    "        - Normal Residuals: Error terms should be normally distributed\n",
    "        - Independence: Errors are independent \n",
    "\n",
    "        "
   ]
  },
  {
   "cell_type": "markdown",
   "id": "5d9b3243",
   "metadata": {},
   "source": [
    "\n",
    "\n",
    "#### Pros and Cons\n",
    "\n",
    ">Pros\n",
    "\n",
    "        - Easy to implement and train\n",
    "        - Susceptible to over fitting, but can be fixed with regularization and dimensionality reduction techniques\n",
    ">Cons\n",
    "\n",
    "        - There are model assumptions that need to be met\n",
    "     \n",
    "        \n"
   ]
  },
  {
   "cell_type": "markdown",
   "id": "82d21405",
   "metadata": {},
   "source": [
    "### Model Implementation"
   ]
  },
  {
   "cell_type": "markdown",
   "id": "3378b028",
   "metadata": {},
   "source": [
    "> Below is an implementation of Simple Linear Regression model on a dataset. \n",
    "\n"
   ]
  },
  {
   "cell_type": "markdown",
   "id": "7d6cb5d8",
   "metadata": {},
   "source": [
    "\n",
    "\n",
    "#### Libraries Used\n",
    "\n",
    "> A list of libraries used for data visualizations, data preparation, and model building:\n",
    "    \n",
    "\n",
    "[Scikit Learn Model Selection - train_test_split](https://scikit-learn.org/stable/modules/generated/sklearn.model_selection.train_test_split.html)\n",
    "\n",
    "[Numpy](https://numpy.org/)\n",
    "\n",
    "[Pandas](https://pandas.pydata.org/)\n",
    "\n",
    "[Matplotlib](https://matplotlib.org/)\n",
    "\n",
    "[Seaborn](https://seaborn.pydata.org/)\n",
    "\n",
    "[MinMaxScaler](https://scikit-learn.org/stable/modules/generated/sklearn.preprocessing.MinMaxScaler.html)\n",
    "\n",
    "[Metrics](https://scikit-learn.org/stable/modules/model_evaluation.html)"
   ]
  },
  {
   "cell_type": "code",
   "execution_count": 1,
   "id": "6e8f20d9",
   "metadata": {},
   "outputs": [],
   "source": [
    "#import libraries\n",
    "\n",
    "from sklearn.model_selection import train_test_split\n",
    "\n",
    "import numpy as np\n",
    "\n",
    "import pandas as pd\n",
    "\n",
    "import matplotlib.pyplot as plt\n",
    "\n",
    "import seaborn as sns\n",
    "\n",
    "from sklearn import preprocessing\n",
    "\n",
    "from sklearn.linear_model import LinearRegression\n",
    "\n",
    "from sklearn import metrics"
   ]
  },
  {
   "cell_type": "markdown",
   "id": "768ef3aa",
   "metadata": {},
   "source": [
    "\n",
    "#### Data Preparation\n"
   ]
  },
  {
   "cell_type": "markdown",
   "id": "fbd09a84",
   "metadata": {},
   "source": [
    ">Before model building and model implementation, a dataset will be prepared for use. Below, a dataset containing data collected from a Combined Cycle Power Plant is imported. For more information on the dataset, click [here](https://archive.ics.uci.edu/ml/datasets/Combined+Cycle+Power+Plant). "
   ]
  },
  {
   "cell_type": "code",
   "execution_count": 2,
   "id": "3c6cbd36",
   "metadata": {
    "scrolled": true
   },
   "outputs": [
    {
     "data": {
      "text/html": [
       "<div>\n",
       "<style scoped>\n",
       "    .dataframe tbody tr th:only-of-type {\n",
       "        vertical-align: middle;\n",
       "    }\n",
       "\n",
       "    .dataframe tbody tr th {\n",
       "        vertical-align: top;\n",
       "    }\n",
       "\n",
       "    .dataframe thead th {\n",
       "        text-align: right;\n",
       "    }\n",
       "</style>\n",
       "<table border=\"1\" class=\"dataframe\">\n",
       "  <thead>\n",
       "    <tr style=\"text-align: right;\">\n",
       "      <th></th>\n",
       "      <th>AT</th>\n",
       "      <th>V</th>\n",
       "      <th>AP</th>\n",
       "      <th>RH</th>\n",
       "      <th>PE</th>\n",
       "    </tr>\n",
       "  </thead>\n",
       "  <tbody>\n",
       "    <tr>\n",
       "      <th>0</th>\n",
       "      <td>14.96</td>\n",
       "      <td>41.76</td>\n",
       "      <td>1024.07</td>\n",
       "      <td>73.17</td>\n",
       "      <td>463.26</td>\n",
       "    </tr>\n",
       "    <tr>\n",
       "      <th>1</th>\n",
       "      <td>25.18</td>\n",
       "      <td>62.96</td>\n",
       "      <td>1020.04</td>\n",
       "      <td>59.08</td>\n",
       "      <td>444.37</td>\n",
       "    </tr>\n",
       "    <tr>\n",
       "      <th>2</th>\n",
       "      <td>5.11</td>\n",
       "      <td>39.40</td>\n",
       "      <td>1012.16</td>\n",
       "      <td>92.14</td>\n",
       "      <td>488.56</td>\n",
       "    </tr>\n",
       "    <tr>\n",
       "      <th>3</th>\n",
       "      <td>20.86</td>\n",
       "      <td>57.32</td>\n",
       "      <td>1010.24</td>\n",
       "      <td>76.64</td>\n",
       "      <td>446.48</td>\n",
       "    </tr>\n",
       "    <tr>\n",
       "      <th>4</th>\n",
       "      <td>10.82</td>\n",
       "      <td>37.50</td>\n",
       "      <td>1009.23</td>\n",
       "      <td>96.62</td>\n",
       "      <td>473.90</td>\n",
       "    </tr>\n",
       "    <tr>\n",
       "      <th>...</th>\n",
       "      <td>...</td>\n",
       "      <td>...</td>\n",
       "      <td>...</td>\n",
       "      <td>...</td>\n",
       "      <td>...</td>\n",
       "    </tr>\n",
       "    <tr>\n",
       "      <th>9563</th>\n",
       "      <td>16.65</td>\n",
       "      <td>49.69</td>\n",
       "      <td>1014.01</td>\n",
       "      <td>91.00</td>\n",
       "      <td>460.03</td>\n",
       "    </tr>\n",
       "    <tr>\n",
       "      <th>9564</th>\n",
       "      <td>13.19</td>\n",
       "      <td>39.18</td>\n",
       "      <td>1023.67</td>\n",
       "      <td>66.78</td>\n",
       "      <td>469.62</td>\n",
       "    </tr>\n",
       "    <tr>\n",
       "      <th>9565</th>\n",
       "      <td>31.32</td>\n",
       "      <td>74.33</td>\n",
       "      <td>1012.92</td>\n",
       "      <td>36.48</td>\n",
       "      <td>429.57</td>\n",
       "    </tr>\n",
       "    <tr>\n",
       "      <th>9566</th>\n",
       "      <td>24.48</td>\n",
       "      <td>69.45</td>\n",
       "      <td>1013.86</td>\n",
       "      <td>62.39</td>\n",
       "      <td>435.74</td>\n",
       "    </tr>\n",
       "    <tr>\n",
       "      <th>9567</th>\n",
       "      <td>21.60</td>\n",
       "      <td>62.52</td>\n",
       "      <td>1017.23</td>\n",
       "      <td>67.87</td>\n",
       "      <td>453.28</td>\n",
       "    </tr>\n",
       "  </tbody>\n",
       "</table>\n",
       "<p>9568 rows × 5 columns</p>\n",
       "</div>"
      ],
      "text/plain": [
       "         AT      V       AP     RH      PE\n",
       "0     14.96  41.76  1024.07  73.17  463.26\n",
       "1     25.18  62.96  1020.04  59.08  444.37\n",
       "2      5.11  39.40  1012.16  92.14  488.56\n",
       "3     20.86  57.32  1010.24  76.64  446.48\n",
       "4     10.82  37.50  1009.23  96.62  473.90\n",
       "...     ...    ...      ...    ...     ...\n",
       "9563  16.65  49.69  1014.01  91.00  460.03\n",
       "9564  13.19  39.18  1023.67  66.78  469.62\n",
       "9565  31.32  74.33  1012.92  36.48  429.57\n",
       "9566  24.48  69.45  1013.86  62.39  435.74\n",
       "9567  21.60  62.52  1017.23  67.87  453.28\n",
       "\n",
       "[9568 rows x 5 columns]"
      ]
     },
     "execution_count": 2,
     "metadata": {},
     "output_type": "execute_result"
    }
   ],
   "source": [
    "df = pd.read_csv('powerplant.csv')\n",
    "df"
   ]
  },
  {
   "cell_type": "markdown",
   "id": "9ddc3f6d",
   "metadata": {},
   "source": [
    "> The data is then split into an array containing a feature and an array containing the response. Ambient temperature (AT) is selected as a feature, while the response is Electrical Output."
   ]
  },
  {
   "cell_type": "code",
   "execution_count": 3,
   "id": "611f5364",
   "metadata": {},
   "outputs": [],
   "source": [
    "#features\n",
    "X = df[\"AT\"].to_numpy()\n",
    "\n",
    "#response/labels\n",
    "y = df[\"PE\"].to_numpy()\n"
   ]
  },
  {
   "cell_type": "markdown",
   "id": "70c52883",
   "metadata": {},
   "source": [
    "#### Visualizing the data:\n",
    "\n",
    "> With the data now mostly prepped, we can visualize the feature and response on a scatter plot. Below, is a scatter plot with ambient temperature and electrical output plotted. There looks to be a linear relationship between the two."
   ]
  },
  {
   "cell_type": "code",
   "execution_count": 4,
   "id": "5a7879d2",
   "metadata": {},
   "outputs": [
    {
     "data": {
      "image/png": "[encoded data removed]",
      "text/plain": [
       "<Figure size 720x576 with 1 Axes>"
      ]
     },
     "metadata": {
      "needs_background": "light"
     },
     "output_type": "display_data"
    }
   ],
   "source": [
    "#plot of data\n",
    "\n",
    "plt.figure(figsize=(10, 8))\n",
    "plt.scatter(X, y, c = \"#574E84\")\n",
    "plt.xlabel(\"Ambient Temperature\")\n",
    "plt.ylabel(\"Electrical Output\")\n",
    "plt.title(\"Electrical Output v. Ambient Temperature\")\n",
    "plt.show()"
   ]
  },
  {
   "cell_type": "markdown",
   "id": "945506a7",
   "metadata": {},
   "source": [
    "> Below, the data is divided into train and test sets. The Linear Regression model will first be trained with the data in the training sets and then tested with the data in the test set. Below, 75% of the data will be used to train the model, while 25% of the data will be used to test the model."
   ]
  },
  {
   "cell_type": "code",
   "execution_count": 5,
   "id": "b9241f36",
   "metadata": {},
   "outputs": [],
   "source": [
    "#with one feature, x shape is (#,) so I am reshaping\n",
    "X = X.reshape(len(X), 1)\n",
    "y = y.reshape(len(y),1)\n",
    "scaler = preprocessing.MinMaxScaler()\n",
    "X = scaler.fit_transform(X)\n",
    "\n",
    "#data is split into test and training sets.\n",
    "X_train, X_test, y_train, y_test = train_test_split(\n",
    "        X, y, test_size=0.25, random_state = 678)\n"
   ]
  },
  {
   "cell_type": "markdown",
   "id": "b48228ab",
   "metadata": {},
   "source": [
    "#### Model Building\n",
    "\n",
    "> Now that data preparation is complete, we can build the model. Below are the steps:\n",
    "\n",
    "        - 1. Calculate y_hat\n",
    "        - 2. Calculate gradients of loss WRT to weights and bias\n",
    "        - 3. Update weight and bias\n",
    "        - 4. Repeat process until *n* iterations (epochs)"
   ]
  },
  {
   "cell_type": "markdown",
   "id": "70af54de",
   "metadata": {},
   "source": [
    "> Below a class is used to build the model. The steps mentioned above are clearly commented in the code below:\n",
    "        "
   ]
  },
  {
   "cell_type": "code",
   "execution_count": 6,
   "id": "e1ad10a3",
   "metadata": {},
   "outputs": [],
   "source": [
    "class linRegression:\n",
    "    \n",
    "    #learning rate and epcohs defaulted to 0.01 and 1000 respectively.\n",
    "    def __init__(self, lr = 0.01, epochs = 1000):\n",
    "        self.lr = lr\n",
    "        self.epochs = epochs\n",
    "        #weight and bias params as None\n",
    "        self.weights = None\n",
    "        self.bias = None\n",
    "          \n",
    "        \n",
    "    #Function to train the model.\n",
    "    def fit(self, X, y):\n",
    "        \n",
    "        \n",
    "        #m = num of observations, n = num of features\n",
    "        m, n = X.shape    \n",
    "    \n",
    "    \n",
    "        #initialize weights and bias as zeros\n",
    "        self.weights = np.zeros((n,1))\n",
    "        self.bias = 0\n",
    "        \n",
    "        \n",
    "        # empty list to store loss/cost\n",
    "        losses = []\n",
    "        \n",
    "        #loop for gradient descent\n",
    "        for epoch in range(self.epochs):\n",
    "        \n",
    "            #Step1:\n",
    "            #calculating prediction/y_hat\n",
    "            y_hat = np.dot(X, self.weights) + self.bias\n",
    "     \n",
    "            #calculting loss\n",
    "            loss = np.mean((y_hat - y)**2)\n",
    "    \n",
    "            #Appending loss to list: losses\n",
    "            losses.append(loss)\n",
    "    \n",
    "            #Step2:\n",
    "            #Calculating derivatives of weight and bias parameters\n",
    "            dw = (1/m)*np.dot(X.T, (y_hat - y))\n",
    "            db = (1/m)*np.sum((y_hat - y))\n",
    "            \n",
    "            #Step3\n",
    "            #updating weight and bias\n",
    "            self.weights -= self.lr*dw\n",
    "            self.bias -= self.lr*db\n",
    "        \n",
    "        #return parameters\n",
    "        return self.weights, self.bias, losses\n",
    "    \n",
    "    \n",
    "    #calculating y_hat with updated weights    \n",
    "    def predict(self, X):\n",
    "        return np.dot(X, self.weights) + self.bias\n",
    "    \n",
    "    "
   ]
  },
  {
   "cell_type": "markdown",
   "id": "b990792a",
   "metadata": {},
   "source": [
    "#### Using Model on Prepared Data\n",
    "\n",
    "> Below, the model is trained by passing X_train and y_train to LR_model.fit().  Afterwards, predictions are made by passing X_test to LR_model.predict()."
   ]
  },
  {
   "cell_type": "code",
   "execution_count": 7,
   "id": "28e6ded9",
   "metadata": {},
   "outputs": [],
   "source": [
    "LR_model = linRegression(lr = 0.01, epochs = 15000)\n",
    "\n",
    "#train model\n",
    "w, b, l = LR_model.fit(X_train,y_train)\n",
    "\n",
    "#make predictions\n",
    "y_hat = LR_model.predict(X_test)"
   ]
  },
  {
   "cell_type": "markdown",
   "id": "2b0222a3",
   "metadata": {},
   "source": [
    "#### Model Evaluation\n",
    "\n",
    "> Below, we take a look at model accuracy by comparing y and y_hat and calculating R^2.\n",
    "\n",
    "> Looking at the dataframe containing actual and predicted values for y, the values in the two columns do not differ too much. Also, the model accuracy is 0.90."
   ]
  },
  {
   "cell_type": "code",
   "execution_count": 8,
   "id": "f74aa061",
   "metadata": {},
   "outputs": [
    {
     "data": {
      "text/html": [
       "<div>\n",
       "<style scoped>\n",
       "    .dataframe tbody tr th:only-of-type {\n",
       "        vertical-align: middle;\n",
       "    }\n",
       "\n",
       "    .dataframe tbody tr th {\n",
       "        vertical-align: top;\n",
       "    }\n",
       "\n",
       "    .dataframe thead th {\n",
       "        text-align: right;\n",
       "    }\n",
       "</style>\n",
       "<table border=\"1\" class=\"dataframe\">\n",
       "  <thead>\n",
       "    <tr style=\"text-align: right;\">\n",
       "      <th></th>\n",
       "      <th>Actual</th>\n",
       "      <th>Predicted</th>\n",
       "    </tr>\n",
       "  </thead>\n",
       "  <tbody>\n",
       "    <tr>\n",
       "      <th>0</th>\n",
       "      <td>453.08</td>\n",
       "      <td>448.194517</td>\n",
       "    </tr>\n",
       "    <tr>\n",
       "      <th>1</th>\n",
       "      <td>448.67</td>\n",
       "      <td>445.470229</td>\n",
       "    </tr>\n",
       "    <tr>\n",
       "      <th>2</th>\n",
       "      <td>441.20</td>\n",
       "      <td>434.019704</td>\n",
       "    </tr>\n",
       "    <tr>\n",
       "      <th>3</th>\n",
       "      <td>436.79</td>\n",
       "      <td>430.869745</td>\n",
       "    </tr>\n",
       "    <tr>\n",
       "      <th>4</th>\n",
       "      <td>474.87</td>\n",
       "      <td>466.306779</td>\n",
       "    </tr>\n",
       "    <tr>\n",
       "      <th>...</th>\n",
       "      <td>...</td>\n",
       "      <td>...</td>\n",
       "    </tr>\n",
       "    <tr>\n",
       "      <th>2387</th>\n",
       "      <td>476.06</td>\n",
       "      <td>475.777938</td>\n",
       "    </tr>\n",
       "    <tr>\n",
       "      <th>2388</th>\n",
       "      <td>445.52</td>\n",
       "      <td>448.449919</td>\n",
       "    </tr>\n",
       "    <tr>\n",
       "      <th>2389</th>\n",
       "      <td>426.15</td>\n",
       "      <td>429.209632</td>\n",
       "    </tr>\n",
       "    <tr>\n",
       "      <th>2390</th>\n",
       "      <td>430.87</td>\n",
       "      <td>438.425389</td>\n",
       "    </tr>\n",
       "    <tr>\n",
       "      <th>2391</th>\n",
       "      <td>448.61</td>\n",
       "      <td>446.981358</td>\n",
       "    </tr>\n",
       "  </tbody>\n",
       "</table>\n",
       "<p>2392 rows × 2 columns</p>\n",
       "</div>"
      ],
      "text/plain": [
       "      Actual   Predicted\n",
       "0     453.08  448.194517\n",
       "1     448.67  445.470229\n",
       "2     441.20  434.019704\n",
       "3     436.79  430.869745\n",
       "4     474.87  466.306779\n",
       "...      ...         ...\n",
       "2387  476.06  475.777938\n",
       "2388  445.52  448.449919\n",
       "2389  426.15  429.209632\n",
       "2390  430.87  438.425389\n",
       "2391  448.61  446.981358\n",
       "\n",
       "[2392 rows x 2 columns]"
      ]
     },
     "execution_count": 8,
     "metadata": {},
     "output_type": "execute_result"
    }
   ],
   "source": [
    "# comparing true values to prediction\n",
    "Compare_df = pd.DataFrame({'Actual':y_test[:,0],'Predicted':y_hat[:,0]})\n",
    "Compare_df"
   ]
  },
  {
   "cell_type": "code",
   "execution_count": 9,
   "id": "df243073",
   "metadata": {},
   "outputs": [
    {
     "name": "stdout",
     "output_type": "stream",
     "text": [
      "R squared: 0.90\n"
     ]
    }
   ],
   "source": [
    "#accuracy\n",
    "def r2(y_true, y_pred):\n",
    "    corr_matrix = np.corrcoef(y_true, y_pred)\n",
    "    corr = corr_matrix[0, 1]\n",
    "    return corr ** 2\n",
    "\n",
    "accuracy = r2(y_test[:,0], y_hat[:,0])\n",
    "\n",
    "print('R squared: {:.2f}'.format(accuracy))"
   ]
  },
  {
   "cell_type": "markdown",
   "id": "2898310d",
   "metadata": {},
   "source": [
    "> Below is a plot showing the value of cost at each iteration."
   ]
  },
  {
   "cell_type": "code",
   "execution_count": 10,
   "id": "33a2c0e8",
   "metadata": {},
   "outputs": [
    {
     "data": {
      "text/plain": [
       "Text(0.5, 1.0, 'Loss V. Iterations')"
      ]
     },
     "execution_count": 10,
     "metadata": {},
     "output_type": "execute_result"
    },
    {
     "data": {
      "image/png": "[encoded data removed]",
      "text/plain": [
       "<Figure size 576x432 with 1 Axes>"
      ]
     },
     "metadata": {
      "needs_background": "light"
     },
     "output_type": "display_data"
    }
   ],
   "source": [
    "fig = plt.figure(figsize=(8,6))\n",
    "plt.plot([i for i in range(15000)], l, 'r-', c = '#574E84')\n",
    "plt.xlabel('Number of Iterations')\n",
    "plt.ylabel('Loss / Cost')\n",
    "plt.title(\"Loss V. Iterations\")"
   ]
  },
  {
   "cell_type": "markdown",
   "id": "d39646d9",
   "metadata": {},
   "source": [
    "\n",
    "### Model Implementation Using Scikit\n",
    "\n",
    "> Linear Regression can also be implemented using Scikit Learn. Below, I show how this can be done. Below, I will use Scikit learn to build a MLR model to see if I can get a higher accuracy.\n",
    "\n"
   ]
  },
  {
   "cell_type": "markdown",
   "id": "72dfec77",
   "metadata": {},
   "source": [
    "#### Libraries Used\n",
    "\n",
    "> LinearRegression() from Scikit Learn\n",
    "\n",
    "[LinearRegression](https://scikit-learn.org/stable/modules/generated/sklearn.linear_model.LinearRegression.html)"
   ]
  },
  {
   "cell_type": "code",
   "execution_count": 11,
   "id": "9ae2d5ea",
   "metadata": {},
   "outputs": [],
   "source": [
    "#import LogisticRegression\n",
    "\n",
    "from sklearn.linear_model import LogisticRegression\n"
   ]
  },
  {
   "cell_type": "markdown",
   "id": "7a6e77eb",
   "metadata": {},
   "source": [
    "#### Model Building: Simple Linear Regression\n",
    "> First, I will build a simple linear regression model using the same features and response as above to see if the model built using Scikit Learn will have a higher accuracy. Below, the model is built using LinearRegression() from Scikit Learn. The model is then trained by passing X_train and y_train to lr.fit() Afterwards, predictions are made by passing X_test to lr.predict()."
   ]
  },
  {
   "cell_type": "code",
   "execution_count": 12,
   "id": "5f8064c2",
   "metadata": {},
   "outputs": [],
   "source": [
    "lr = LinearRegression()  \n",
    "\n",
    "#train model\n",
    "lr.fit(X_train, y_train)\n",
    "\n",
    "#make predictions\n",
    "y_pred= lr.predict(X_test)"
   ]
  },
  {
   "cell_type": "markdown",
   "id": "6474234f",
   "metadata": {},
   "source": [
    "#### Model Evaluation\n",
    "> Below, we take a look at the Scikit model accuracy by comparing y and y_hat and calculating R^2.\n",
    "\n",
    "> Looking at the dataframe containing actual and predicted values for y, the values in the two columns do not differ too much. The Scikit model accuracy is 89.89. The Linear Regression model built from scratch and the one built using Scikit Learn have the same accuracy at around 0.89 and 0.90. So, both are about ~90% accurate at predicting y given x."
   ]
  },
  {
   "cell_type": "code",
   "execution_count": 13,
   "id": "44235328",
   "metadata": {},
   "outputs": [
    {
     "data": {
      "text/html": [
       "<div>\n",
       "<style scoped>\n",
       "    .dataframe tbody tr th:only-of-type {\n",
       "        vertical-align: middle;\n",
       "    }\n",
       "\n",
       "    .dataframe tbody tr th {\n",
       "        vertical-align: top;\n",
       "    }\n",
       "\n",
       "    .dataframe thead th {\n",
       "        text-align: right;\n",
       "    }\n",
       "</style>\n",
       "<table border=\"1\" class=\"dataframe\">\n",
       "  <thead>\n",
       "    <tr style=\"text-align: right;\">\n",
       "      <th></th>\n",
       "      <th>Actual</th>\n",
       "      <th>Predicted</th>\n",
       "    </tr>\n",
       "  </thead>\n",
       "  <tbody>\n",
       "    <tr>\n",
       "      <th>0</th>\n",
       "      <td>453.08</td>\n",
       "      <td>448.109648</td>\n",
       "    </tr>\n",
       "    <tr>\n",
       "      <th>1</th>\n",
       "      <td>448.67</td>\n",
       "      <td>445.336361</td>\n",
       "    </tr>\n",
       "    <tr>\n",
       "      <th>2</th>\n",
       "      <td>441.20</td>\n",
       "      <td>433.679887</td>\n",
       "    </tr>\n",
       "    <tr>\n",
       "      <th>3</th>\n",
       "      <td>436.79</td>\n",
       "      <td>430.473274</td>\n",
       "    </tr>\n",
       "    <tr>\n",
       "      <th>4</th>\n",
       "      <td>474.87</td>\n",
       "      <td>466.547676</td>\n",
       "    </tr>\n",
       "    <tr>\n",
       "      <th>...</th>\n",
       "      <td>...</td>\n",
       "      <td>...</td>\n",
       "    </tr>\n",
       "    <tr>\n",
       "      <th>2387</th>\n",
       "      <td>476.06</td>\n",
       "      <td>476.189182</td>\n",
       "    </tr>\n",
       "    <tr>\n",
       "      <th>2388</th>\n",
       "      <td>445.52</td>\n",
       "      <td>448.369644</td>\n",
       "    </tr>\n",
       "    <tr>\n",
       "      <th>2389</th>\n",
       "      <td>426.15</td>\n",
       "      <td>428.783302</td>\n",
       "    </tr>\n",
       "    <tr>\n",
       "      <th>2390</th>\n",
       "      <td>430.87</td>\n",
       "      <td>438.164813</td>\n",
       "    </tr>\n",
       "    <tr>\n",
       "      <th>2391</th>\n",
       "      <td>448.61</td>\n",
       "      <td>446.874668</td>\n",
       "    </tr>\n",
       "  </tbody>\n",
       "</table>\n",
       "<p>2392 rows × 2 columns</p>\n",
       "</div>"
      ],
      "text/plain": [
       "      Actual   Predicted\n",
       "0     453.08  448.109648\n",
       "1     448.67  445.336361\n",
       "2     441.20  433.679887\n",
       "3     436.79  430.473274\n",
       "4     474.87  466.547676\n",
       "...      ...         ...\n",
       "2387  476.06  476.189182\n",
       "2388  445.52  448.369644\n",
       "2389  426.15  428.783302\n",
       "2390  430.87  438.164813\n",
       "2391  448.61  446.874668\n",
       "\n",
       "[2392 rows x 2 columns]"
      ]
     },
     "execution_count": 13,
     "metadata": {},
     "output_type": "execute_result"
    }
   ],
   "source": [
    "#compare y and y_hat\n",
    "ScikitCompare_df = pd.DataFrame({'Actual':y_test[:,0],'Predicted':y_pred[:,0]})\n",
    "ScikitCompare_df"
   ]
  },
  {
   "cell_type": "code",
   "execution_count": 14,
   "id": "d1640943",
   "metadata": {},
   "outputs": [
    {
     "name": "stdout",
     "output_type": "stream",
     "text": [
      "R squared: 89.89\n"
     ]
    }
   ],
   "source": [
    "#accuracy\n",
    "print('R squared: {:.2f}'.format(lr.score(X,y)*100))"
   ]
  },
  {
   "cell_type": "markdown",
   "id": "e93cbf88",
   "metadata": {},
   "source": [
    "#### Model Building:  MLR\n",
    "> Next, I will use Scikit Learn to the build a MLR model using the same response and additional feature to see if the MLR model built using Scikit Learn will have higher accuracy compared to both simple Linear Regression models.\n",
    "\n",
    ">Below, data is prepped. I add relative humidity (RH) as a feature."
   ]
  },
  {
   "cell_type": "code",
   "execution_count": 15,
   "id": "123112c4",
   "metadata": {},
   "outputs": [],
   "source": [
    "# #features\n",
    "X = df[[\"RH\", \"AT\"]].to_numpy()\n",
    "\n",
    "#response/labels\n",
    "y = df[\"PE\"].to_numpy()\n",
    "\n",
    "#scale x\n",
    "scaler = preprocessing.MinMaxScaler()\n",
    "X = scaler.fit_transform(X)\n",
    "\n",
    "#split data into test and train sets\n",
    "X_train, X_test, y_train, y_test = train_test_split(\n",
    "        X, y, test_size=0.25, random_state = 678)\n"
   ]
  },
  {
   "cell_type": "markdown",
   "id": "b6e26088",
   "metadata": {},
   "source": [
    "> Below, the model is built using LinearRegression() from Scikit Learn. The model is then trained by passing X_train and y_train to mlr.fit(). Afterwards, predictions are made by passing X_test to mlr.predict()."
   ]
  },
  {
   "cell_type": "code",
   "execution_count": 16,
   "id": "601ca48f",
   "metadata": {},
   "outputs": [],
   "source": [
    "mlr = LinearRegression()  \n",
    "\n",
    "#train model\n",
    "mlr.fit(X_train, y_train)\n",
    "\n",
    "#make predictions\n",
    "y_MLRpred= mlr.predict(X_test)"
   ]
  },
  {
   "cell_type": "markdown",
   "id": "fca7590c",
   "metadata": {},
   "source": [
    "#### Model Evaluation\n",
    "\n",
    "> Below, we take a look at the Scikit MLR model accuracy by comparing y and y_hat and calculating R^2. \n",
    "\n",
    "> The calculated accuracy for the MLR model is slightly better than both of the Simple Linear Regression models at 0.92."
   ]
  },
  {
   "cell_type": "code",
   "execution_count": 17,
   "id": "6727f6ae",
   "metadata": {},
   "outputs": [
    {
     "data": {
      "text/html": [
       "<div>\n",
       "<style scoped>\n",
       "    .dataframe tbody tr th:only-of-type {\n",
       "        vertical-align: middle;\n",
       "    }\n",
       "\n",
       "    .dataframe tbody tr th {\n",
       "        vertical-align: top;\n",
       "    }\n",
       "\n",
       "    .dataframe thead th {\n",
       "        text-align: right;\n",
       "    }\n",
       "</style>\n",
       "<table border=\"1\" class=\"dataframe\">\n",
       "  <thead>\n",
       "    <tr style=\"text-align: right;\">\n",
       "      <th></th>\n",
       "      <th>Actual</th>\n",
       "      <th>Predicted</th>\n",
       "    </tr>\n",
       "  </thead>\n",
       "  <tbody>\n",
       "    <tr>\n",
       "      <th>0</th>\n",
       "      <td>453.08</td>\n",
       "      <td>449.604526</td>\n",
       "    </tr>\n",
       "    <tr>\n",
       "      <th>1</th>\n",
       "      <td>448.67</td>\n",
       "      <td>443.108030</td>\n",
       "    </tr>\n",
       "    <tr>\n",
       "      <th>2</th>\n",
       "      <td>441.20</td>\n",
       "      <td>434.101317</td>\n",
       "    </tr>\n",
       "    <tr>\n",
       "      <th>3</th>\n",
       "      <td>436.79</td>\n",
       "      <td>434.478028</td>\n",
       "    </tr>\n",
       "    <tr>\n",
       "      <th>4</th>\n",
       "      <td>474.87</td>\n",
       "      <td>471.658405</td>\n",
       "    </tr>\n",
       "    <tr>\n",
       "      <th>...</th>\n",
       "      <td>...</td>\n",
       "      <td>...</td>\n",
       "    </tr>\n",
       "    <tr>\n",
       "      <th>2387</th>\n",
       "      <td>476.06</td>\n",
       "      <td>473.421185</td>\n",
       "    </tr>\n",
       "    <tr>\n",
       "      <th>2388</th>\n",
       "      <td>445.52</td>\n",
       "      <td>445.010025</td>\n",
       "    </tr>\n",
       "    <tr>\n",
       "      <th>2389</th>\n",
       "      <td>426.15</td>\n",
       "      <td>429.709345</td>\n",
       "    </tr>\n",
       "    <tr>\n",
       "      <th>2390</th>\n",
       "      <td>430.87</td>\n",
       "      <td>433.065968</td>\n",
       "    </tr>\n",
       "    <tr>\n",
       "      <th>2391</th>\n",
       "      <td>448.61</td>\n",
       "      <td>446.796265</td>\n",
       "    </tr>\n",
       "  </tbody>\n",
       "</table>\n",
       "<p>2392 rows × 2 columns</p>\n",
       "</div>"
      ],
      "text/plain": [
       "      Actual   Predicted\n",
       "0     453.08  449.604526\n",
       "1     448.67  443.108030\n",
       "2     441.20  434.101317\n",
       "3     436.79  434.478028\n",
       "4     474.87  471.658405\n",
       "...      ...         ...\n",
       "2387  476.06  473.421185\n",
       "2388  445.52  445.010025\n",
       "2389  426.15  429.709345\n",
       "2390  430.87  433.065968\n",
       "2391  448.61  446.796265\n",
       "\n",
       "[2392 rows x 2 columns]"
      ]
     },
     "execution_count": 17,
     "metadata": {},
     "output_type": "execute_result"
    }
   ],
   "source": [
    "#compare y and y_hat\n",
    "ScikitCompareMLR_df = pd.DataFrame({'Actual':y_test,'Predicted':y_MLRpred})\n",
    "ScikitCompareMLR_df\n"
   ]
  },
  {
   "cell_type": "code",
   "execution_count": 18,
   "id": "65b79479",
   "metadata": {},
   "outputs": [
    {
     "name": "stdout",
     "output_type": "stream",
     "text": [
      "R squared: 92.09\n"
     ]
    }
   ],
   "source": [
    "print('R squared: {:.2f}'.format(mlr.score(X,y)*100))"
   ]
  },
  {
   "cell_type": "markdown",
   "id": "ae2a0e7e",
   "metadata": {},
   "source": [
    "#### Conslusion\n",
    "\n",
    "> The Simple Linear Regression model built from scratch performed about the same as the Simple Linear Regression model built using Scikit Learn, both with a R2 of about 0.90. The MLR model built using Scikit learn out performed both Simple Linear Regression models since it has a slightly higher R2 of 0.92. This suggests that electrical output is not dependent on ambient temperature alone."
   ]
  }
 ],
 "metadata": {
  "kernelspec": {
   "display_name": "Python 3",
   "language": "python",
   "name": "python3"
  },
  "language_info": {
   "codemirror_mode": {
    "name": "ipython",
    "version": 3
   },
   "file_extension": ".py",
   "mimetype": "text/x-python",
   "name": "python",
   "nbconvert_exporter": "python",
   "pygments_lexer": "ipython3",
   "version": "3.8.8"
  }
 },
 "nbformat": 4,
 "nbformat_minor": 5
}
